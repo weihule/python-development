{
 "cells": [
  {
   "cell_type": "code",
   "execution_count": 1,
   "id": "initial_id",
   "metadata": {
    "collapsed": true
   },
   "outputs": [
    {
     "name": "stdout",
     "output_type": "stream",
     "text": [
      "sing ...\n",
      "dancing ...\n"
     ]
    },
    {
     "name": "stdout",
     "output_type": "stream",
     "text": [
      "dancing ...\n",
      "sing ...\n"
     ]
    }
   ],
   "source": [
    "from time import sleep\n",
    "import threading\n",
    "\n",
    "def sing():\n",
    "    for i in range(2):\n",
    "        print(\"sing ...\")\n",
    "        sleep(1)\n",
    "\n",
    "def dance():\n",
    "    for i in range(2):\n",
    "        print(\"dancing ...\")\n",
    "        sleep(1)\n",
    "\n",
    "t1 = threading.Thread(target=sing)\n",
    "t2 = threading.Thread(target=dance)\n",
    "t1.start()\n",
    "t2.start()"
   ]
  },
  {
   "cell_type": "code",
   "execution_count": 4,
   "id": "72539df3",
   "metadata": {},
   "outputs": [
    {
     "name": "stdout",
     "output_type": "stream",
     "text": [
      "(0, '10')\n",
      "(1, '11')\n",
      "(2, '12')\n"
     ]
    }
   ],
   "source": [
    "import queue\n",
    "\n",
    "q = queue.PriorityQueue()\n",
    "for i in range(5):\n",
    "    q.put((i, str(i+10)))\n",
    "\n",
    "print(q.get())\n",
    "print(q.get())\n",
    "print(q.get())"
   ]
  }
 ],
 "metadata": {
  "kernelspec": {
   "display_name": "Python 3",
   "language": "python",
   "name": "python3"
  },
  "language_info": {
   "codemirror_mode": {
    "name": "ipython",
    "version": 3
   },
   "file_extension": ".py",
   "mimetype": "text/x-python",
   "name": "python",
   "nbconvert_exporter": "python",
   "pygments_lexer": "ipython3",
   "version": "3.9.18"
  }
 },
 "nbformat": 4,
 "nbformat_minor": 5
}
