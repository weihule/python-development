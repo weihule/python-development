{
 "cells": [
  {
   "cell_type": "code",
   "execution_count": 1,
   "id": "initial_id",
   "metadata": {
    "collapsed": true
   },
   "outputs": [
    {
     "name": "stdout",
     "output_type": "stream",
     "text": [
      "sing ...\n",
      "dancing ...\n"
     ]
    },
    {
     "name": "stdout",
     "output_type": "stream",
     "text": [
      "dancing ...\n",
      "sing ...\n"
     ]
    }
   ],
   "source": [
    "from time import sleep\n",
    "import threading\n",
    "\n",
    "def sing():\n",
    "    for i in range(2):\n",
    "        print(\"sing ...\")\n",
    "        sleep(1)\n",
    "\n",
    "def dance():\n",
    "    for i in range(2):\n",
    "        print(\"dancing ...\")\n",
    "        sleep(1)\n",
    "\n",
    "t1 = threading.Thread(target=sing)\n",
    "t2 = threading.Thread(target=dance)\n",
    "t1.start()\n",
    "t2.start()"
   ]
  },
  {
   "cell_type": "code",
   "execution_count": 4,
   "id": "72539df3",
   "metadata": {},
   "outputs": [
    {
     "name": "stdout",
     "output_type": "stream",
     "text": [
      "(0, '10')\n",
      "(1, '11')\n",
      "(2, '12')\n"
     ]
    }
   ],
   "source": [
    "import queue\n",
    "\n",
    "q = queue.PriorityQueue()\n",
    "for i in range(5):\n",
    "    q.put((i, str(i+10)))\n",
    "\n",
    "print(q.get())\n",
    "print(q.get())\n",
    "print(q.get())"
   ]
  },
  {
   "cell_type": "code",
   "execution_count": 8,
   "id": "4f0190c3",
   "metadata": {},
   "outputs": [
    {
     "name": "stdout",
     "output_type": "stream",
     "text": [
      "33559\n",
      "11110\n"
     ]
    }
   ],
   "source": [
    "from pathlib import Path\n",
    "\n",
    "root_train = r\"D:\\workspace\\MYData\\比赛\\眼科比赛\\eye_com\\Train\\Train\"\n",
    "train_num = 0\n",
    "for sub_dir in Path(root_train).iterdir():\n",
    "    train_num += len([p for p in sub_dir.glob(\"*.jpg\")])\n",
    "print(train_num)\n",
    "\n",
    "root_val = r\"D:\\workspace\\MYData\\比赛\\眼科比赛\\eye_com\\Validation\\Validation_images\"\n",
    "val_num = 0\n",
    "for sub_dir in Path(root_val).iterdir():\n",
    "    val_num += len([p for p in sub_dir.glob(\"*.jpg\")])\n",
    "print(val_num)"
   ]
  },
  {
   "cell_type": "markdown",
   "id": "20ab710d",
   "metadata": {},
   "source": [
    "训练集：33559张图片\n",
    "验证集：11110张图片\n",
    "在这些图片基础上，包含了14个多分类任务，每个任务的类别数量从 2 - 23 不等"
   ]
  },
  {
   "cell_type": "code",
   "execution_count": 10,
   "id": "a40e4bee",
   "metadata": {},
   "outputs": [
    {
     "name": "stdout",
     "output_type": "stream",
     "text": [
      "1727\n"
     ]
    }
   ],
   "source": [
    "pred_root = Path(\"D:\\workspace\\MYData\\比赛\\厨房\\初赛试题\\picture\").glob(\"*.jpg\")\n",
    "pred_root = [i for i in pred_root]\n",
    "print(len(pred_root))"
   ]
  },
  {
   "cell_type": "markdown",
   "id": "88de89db",
   "metadata": {},
   "source": [
    "明厨亮灶：\n",
    "\n",
    "一共有8个类别（初赛5个，决赛增加了3个）每个类别提供了 14 张训练图片\n",
    "需要预测的图片数量: 1727\n",
    "需要预测的视频数量：251个，每个视频时长在5秒左右，视频帧率为15或20帧（即1秒有15或20张图片）"
   ]
  }
 ],
 "metadata": {
  "kernelspec": {
   "display_name": "Python 3",
   "language": "python",
   "name": "python3"
  },
  "language_info": {
   "codemirror_mode": {
    "name": "ipython",
    "version": 3
   },
   "file_extension": ".py",
   "mimetype": "text/x-python",
   "name": "python",
   "nbconvert_exporter": "python",
   "pygments_lexer": "ipython3",
   "version": "3.9.18"
  }
 },
 "nbformat": 4,
 "nbformat_minor": 5
}
